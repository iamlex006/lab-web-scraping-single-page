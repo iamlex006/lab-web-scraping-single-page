{
 "cells": [
  {
   "cell_type": "markdown",
   "id": "a2aa94c2",
   "metadata": {},
   "source": [
    "# Lab 6.01"
   ]
  },
  {
   "cell_type": "code",
   "execution_count": 1,
   "id": "94ded67c",
   "metadata": {},
   "outputs": [],
   "source": [
    "#First get the information from the webpage"
   ]
  },
  {
   "cell_type": "code",
   "execution_count": 2,
   "id": "c95e271f",
   "metadata": {},
   "outputs": [],
   "source": [
    "from bs4 import BeautifulSoup\n",
    "import requests\n",
    "import pandas as pd"
   ]
  },
  {
   "cell_type": "code",
   "execution_count": 3,
   "id": "b89b60cc",
   "metadata": {},
   "outputs": [],
   "source": [
    "url = \"http://www.popvortex.com/music/charts/top-100-songs.php\""
   ]
  },
  {
   "cell_type": "code",
   "execution_count": 4,
   "id": "3c803c0d",
   "metadata": {},
   "outputs": [
    {
     "data": {
      "text/plain": [
       "200"
      ]
     },
     "execution_count": 4,
     "metadata": {},
     "output_type": "execute_result"
    }
   ],
   "source": [
    "response = requests.get(url)\n",
    "response.status_code"
   ]
  },
  {
   "cell_type": "code",
   "execution_count": 5,
   "id": "0938e159",
   "metadata": {},
   "outputs": [],
   "source": [
    "soup = BeautifulSoup(response.content, \"html.parser\")\n",
    "#soup"
   ]
  },
  {
   "cell_type": "code",
   "execution_count": 6,
   "id": "e5fc6fa1",
   "metadata": {},
   "outputs": [],
   "source": [
    "#Then inspect the webpage to find the information we need (song name and artist for each entry in the top 100)"
   ]
  },
  {
   "cell_type": "code",
   "execution_count": 7,
   "id": "a7ccbe9b",
   "metadata": {
    "scrolled": true
   },
   "outputs": [
    {
     "data": {
      "text/plain": [
       "[<p class=\"title-artist\"><cite class=\"title\">The Next Episode (feat. Snoop Dogg)</cite><em class=\"artist\">Dr. Dre</em></p>]"
      ]
     },
     "execution_count": 7,
     "metadata": {},
     "output_type": "execute_result"
    }
   ],
   "source": [
    "soup.select(\"#chart-position-1 > div.chart-content.col-xs-12.col-sm-8 > p\")"
   ]
  },
  {
   "cell_type": "code",
   "execution_count": 8,
   "id": "3ce149f9",
   "metadata": {},
   "outputs": [],
   "source": [
    "#then get down to the information we need"
   ]
  },
  {
   "cell_type": "code",
   "execution_count": 9,
   "id": "4758c5a9",
   "metadata": {},
   "outputs": [
    {
     "data": {
      "text/plain": [
       "[<p class=\"title-artist\"><cite class=\"title\">The Next Episode (feat. Snoop Dogg)</cite><em class=\"artist\">Dr. Dre</em></p>,\n",
       " <p class=\"title-artist\"><cite class=\"title\">Stay Alive (Prod. by SUGA of BTS)</cite><em class=\"artist\">Jung Kook</em></p>,\n",
       " <p class=\"title-artist\"><cite class=\"title\">Still D.R.E. (feat. Snoop Dogg)</cite><em class=\"artist\">Dr. Dre</em></p>,\n",
       " <p class=\"title-artist\"><cite class=\"title\">Lose Yourself</cite><em class=\"artist\">Eminem</em></p>,\n",
       " <p class=\"title-artist\"><cite class=\"title\">Family Affair</cite><em class=\"artist\">Mary J. Blige</em></p>,\n",
       " <p class=\"title-artist\"><cite class=\"title\">California Love (feat. Roger Troutman &amp; Dr. Dre)</cite><em class=\"artist\">2Pac</em></p>,\n",
       " <p class=\"title-artist\"><cite class=\"title\">Forgot About Dre (feat. Eminem)</cite><em class=\"artist\">Dr. Dre</em></p>,\n",
       " <p class=\"title-artist\"><cite class=\"title\">Nuthin' but a G thang (feat. Snoop Dogg)</cite><em class=\"artist\">Dr. Dre</em></p>,\n",
       " <p class=\"title-artist\"><cite class=\"title\">The Joker And The Queen (feat. Taylor Swift)</cite><em class=\"artist\">Ed Sheeran</em></p>,\n",
       " <p class=\"title-artist\"><cite class=\"title\">In da Club</cite><em class=\"artist\">50 Cent</em></p>,\n",
       " <p class=\"title-artist\"><cite class=\"title\">We Don't Talk About Bruno</cite><em class=\"artist\">Carolina Gaitán - La Gaita, Mauro Castillo, Adassa, Rhenzy Feliz, Diane Guerrero, Stephanie Beatriz &amp; Encanto - Cast</em></p>,\n",
       " <p class=\"title-artist\"><cite class=\"title\">On My Way (Marry Me)</cite><em class=\"artist\">Jennifer Lopez</em></p>,\n",
       " <p class=\"title-artist\"><cite class=\"title\">Lose Yourself</cite><em class=\"artist\">Eminem</em></p>,\n",
       " <p class=\"title-artist\"><cite class=\"title\">No More Drama</cite><em class=\"artist\">Mary J. Blige</em></p>,\n",
       " <p class=\"title-artist\"><cite class=\"title\">The Next Episode (feat. Snoop Dogg)</cite><em class=\"artist\">Dr. Dre</em></p>,\n",
       " <p class=\"title-artist\"><cite class=\"title\">In da Club</cite><em class=\"artist\">50 Cent</em></p>,\n",
       " <p class=\"title-artist\"><cite class=\"title\">abcdefu</cite><em class=\"artist\">GAYLE</em></p>,\n",
       " <p class=\"title-artist\"><cite class=\"title\">Numb Little Bug</cite><em class=\"artist\">Em Beihold</em></p>,\n",
       " <p class=\"title-artist\"><cite class=\"title\">The Real Slim Shady</cite><em class=\"artist\">Eminem</em></p>,\n",
       " <p class=\"title-artist\"><cite class=\"title\">MAMIII</cite><em class=\"artist\">Becky G. &amp; KAROL G</em></p>,\n",
       " <p class=\"title-artist\"><cite class=\"title\">Good Morning Gorgeous</cite><em class=\"artist\">Mary J. Blige</em></p>,\n",
       " <p class=\"title-artist\"><cite class=\"title\">Gin and Juice (feat. Dat Nigga Daz)</cite><em class=\"artist\">Snoop Dogg</em></p>,\n",
       " <p class=\"title-artist\"><cite class=\"title\">Surface Pressure</cite><em class=\"artist\">Jessica Darrow</em></p>,\n",
       " <p class=\"title-artist\"><cite class=\"title\">Suga Suga</cite><em class=\"artist\">Baby Bash</em></p>,\n",
       " <p class=\"title-artist\"><cite class=\"title\">Cold Heart (PNAU Remix)</cite><em class=\"artist\">Elton John &amp; Dua Lipa</em></p>,\n",
       " <p class=\"title-artist\"><cite class=\"title\">Shivers</cite><em class=\"artist\">Ed Sheeran</em></p>,\n",
       " <p class=\"title-artist\"><cite class=\"title\">Ain't No Mountain High Enough</cite><em class=\"artist\">Marvin Gaye &amp; Tammi Terrell</em></p>,\n",
       " <p class=\"title-artist\"><cite class=\"title\">Unstoppable</cite><em class=\"artist\">Sia</em></p>,\n",
       " <p class=\"title-artist\"><cite class=\"title\">'Til You Can't</cite><em class=\"artist\">Cody Johnson</em></p>,\n",
       " <p class=\"title-artist\"><cite class=\"title\">Without Me</cite><em class=\"artist\">Eminem</em></p>,\n",
       " <p class=\"title-artist\"><cite class=\"title\">Still D.R.E. (feat. Snoop Dogg)</cite><em class=\"artist\">Dr. Dre</em></p>,\n",
       " <p class=\"title-artist\"><cite class=\"title\">AA</cite><em class=\"artist\">Walker Hayes</em></p>,\n",
       " <p class=\"title-artist\"><cite class=\"title\">Bussin</cite><em class=\"artist\">Nicki Minaj &amp; Lil Baby</em></p>,\n",
       " <p class=\"title-artist\"><cite class=\"title\">Real Love</cite><em class=\"artist\">Mary J. Blige</em></p>,\n",
       " <p class=\"title-artist\"><cite class=\"title\">Easy On Me</cite><em class=\"artist\">Adele</em></p>,\n",
       " <p class=\"title-artist\"><cite class=\"title\">In Jesus Name (God Of Possible)</cite><em class=\"artist\">Katy Nichole</em></p>,\n",
       " <p class=\"title-artist\"><cite class=\"title\">Ghost</cite><em class=\"artist\">Justin Bieber</em></p>,\n",
       " <p class=\"title-artist\"><cite class=\"title\">Love's Train</cite><em class=\"artist\">Bruno Mars, Anderson .Paak &amp; Silk Sonic</em></p>,\n",
       " <p class=\"title-artist\"><cite class=\"title\">Heat Waves</cite><em class=\"artist\">Glass Animals</em></p>,\n",
       " <p class=\"title-artist\"><cite class=\"title\">Love the Way You Lie (feat. Rihanna)</cite><em class=\"artist\">Eminem</em></p>,\n",
       " <p class=\"title-artist\"><cite class=\"title\">Oh My God</cite><em class=\"artist\">Adele</em></p>,\n",
       " <p class=\"title-artist\"><cite class=\"title\">Sand In My Boots</cite><em class=\"artist\">Morgan Wallen</em></p>,\n",
       " <p class=\"title-artist\"><cite class=\"title\">Hrs and Hrs</cite><em class=\"artist\">Muni Long</em></p>,\n",
       " <p class=\"title-artist\"><cite class=\"title\">Big Energy</cite><em class=\"artist\">Latto</em></p>,\n",
       " <p class=\"title-artist\"><cite class=\"title\">THATS WHAT I WANT</cite><em class=\"artist\">Lil Nas X</em></p>,\n",
       " <p class=\"title-artist\"><cite class=\"title\">Who Am I (What's My Name)?</cite><em class=\"artist\">Snoop Dogg</em></p>,\n",
       " <p class=\"title-artist\"><cite class=\"title\">Showdown</cite><em class=\"artist\">Electric Light Orchestra</em></p>,\n",
       " <p class=\"title-artist\"><cite class=\"title\">Alright</cite><em class=\"artist\">Kendrick Lamar</em></p>,\n",
       " <p class=\"title-artist\"><cite class=\"title\">Not Afraid</cite><em class=\"artist\">Eminem</em></p>,\n",
       " <p class=\"title-artist\"><cite class=\"title\">Buy Dirt (feat. Luke Bryan)</cite><em class=\"artist\">Jordan Davis</em></p>,\n",
       " <p class=\"title-artist\"><cite class=\"title\">Fancy Like</cite><em class=\"artist\">Walker Hayes</em></p>,\n",
       " <p class=\"title-artist\"><cite class=\"title\">The Family Madrigal</cite><em class=\"artist\">Stephanie Beatriz, Olga Merediz &amp; Encanto - Cast</em></p>,\n",
       " <p class=\"title-artist\"><cite class=\"title\">Flower Shops</cite><em class=\"artist\">ERNEST &amp; Morgan Wallen</em></p>,\n",
       " <p class=\"title-artist\"><cite class=\"title\">You Should Probably Leave</cite><em class=\"artist\">Chris Stapleton</em></p>,\n",
       " <p class=\"title-artist\"><cite class=\"title\">Smokin Out The Window</cite><em class=\"artist\">Bruno Mars, Anderson .Paak &amp; Silk Sonic</em></p>,\n",
       " <p class=\"title-artist\"><cite class=\"title\">Marry Me (Kat &amp; Bastian Duet)</cite><em class=\"artist\">Jennifer Lopez &amp; Maluma</em></p>,\n",
       " <p class=\"title-artist\"><cite class=\"title\">Drop It Like It's Hot (feat. Pharrell Williams)</cite><em class=\"artist\">Snoop Dogg</em></p>,\n",
       " <p class=\"title-artist\"><cite class=\"title\">Keep On Rollin</cite><em class=\"artist\">King George</em></p>,\n",
       " <p class=\"title-artist\"><cite class=\"title\">California Love</cite><em class=\"artist\">2Pac featuring Dr. Dre &amp; Roger Troutman</em></p>,\n",
       " <p class=\"title-artist\"><cite class=\"title\">Love of My Life (Marry Me)</cite><em class=\"artist\">Jennifer Lopez</em></p>,\n",
       " <p class=\"title-artist\"><cite class=\"title\">Easy</cite><em class=\"artist\">The Commodores</em></p>,\n",
       " <p class=\"title-artist\"><cite class=\"title\">Doin' This</cite><em class=\"artist\">Luke Combs</em></p>,\n",
       " <p class=\"title-artist\"><cite class=\"title\">'Till I Collapse (feat. Nate Dogg)</cite><em class=\"artist\">Eminem</em></p>,\n",
       " <p class=\"title-artist\"><cite class=\"title\">Nuthin' but a G Thang (feat. Snoop Dogg)</cite><em class=\"artist\">Dr. Dre</em></p>,\n",
       " <p class=\"title-artist\"><cite class=\"title\">What Else Can I Do?</cite><em class=\"artist\">Diane Guerrero &amp; Stephanie Beatriz</em></p>,\n",
       " <p class=\"title-artist\"><cite class=\"title\">Lose Yourself</cite><em class=\"artist\">Eminem</em></p>,\n",
       " <p class=\"title-artist\"><cite class=\"title\">m.A.A.d city (feat. MC Eiht)</cite><em class=\"artist\">Kendrick Lamar</em></p>,\n",
       " <p class=\"title-artist\"><cite class=\"title\">Drunk (And I Don't Wanna Go Home)</cite><em class=\"artist\">Elle King &amp; Miranda Lambert</em></p>,\n",
       " <p class=\"title-artist\"><cite class=\"title\">Woke Up This Morning (Detroit Mix)</cite><em class=\"artist\">Alabama 3</em></p>,\n",
       " <p class=\"title-artist\"><cite class=\"title\">The Monster (feat. Rihanna)</cite><em class=\"artist\">Eminem</em></p>,\n",
       " <p class=\"title-artist\"><cite class=\"title\">One In A Million</cite><em class=\"artist\">Aaliyah</em></p>,\n",
       " <p class=\"title-artist\"><cite class=\"title\">Drop It Like It's Hot (Radio Edit)</cite><em class=\"artist\">Snoop Dogg &amp; Pharrell Williams</em></p>,\n",
       " <p class=\"title-artist\"><cite class=\"title\">The Motto</cite><em class=\"artist\">Tiësto &amp; Ava Max</em></p>,\n",
       " <p class=\"title-artist\"><cite class=\"title\">Enemy (From the series \"Arcane League of Legends\")</cite><em class=\"artist\">Imagine Dragons, JID &amp; League of Legends</em></p>,\n",
       " <p class=\"title-artist\"><cite class=\"title\">In the Air Tonight</cite><em class=\"artist\">State of Mine</em></p>,\n",
       " <p class=\"title-artist\"><cite class=\"title\">Tennessee Whiskey</cite><em class=\"artist\">Chris Stapleton</em></p>,\n",
       " <p class=\"title-artist\"><cite class=\"title\">Do We Have A Problem?</cite><em class=\"artist\">Nicki Minaj &amp; Lil Baby</em></p>,\n",
       " <p class=\"title-artist\"><cite class=\"title\">Sus Huellas</cite><em class=\"artist\">Romeo Santos</em></p>,\n",
       " <p class=\"title-artist\"><cite class=\"title\">I'll Be Around</cite><em class=\"artist\">The Spinners</em></p>,\n",
       " <p class=\"title-artist\"><cite class=\"title\">Can't Get Enough of Your Love, Babe</cite><em class=\"artist\">Barry White</em></p>,\n",
       " <p class=\"title-artist\"><cite class=\"title\">After Love, Pt. 1</cite><em class=\"artist\">Jennifer Lopez</em></p>,\n",
       " <p class=\"title-artist\"><cite class=\"title\">Waiting On A Miracle</cite><em class=\"artist\">Stephanie Beatriz</em></p>,\n",
       " <p class=\"title-artist\"><cite class=\"title\">Growing Old With You</cite><em class=\"artist\">Restless Road</em></p>,\n",
       " <p class=\"title-artist\"><cite class=\"title\">Broadway Girls (feat. Morgan Wallen)</cite><em class=\"artist\">Lil Durk</em></p>,\n",
       " <p class=\"title-artist\"><cite class=\"title\">When I'm Gone</cite><em class=\"artist\">Alesso &amp; Katy Perry</em></p>,\n",
       " <p class=\"title-artist\"><cite class=\"title\">Shake That (feat. Nate Dogg)</cite><em class=\"artist\">Eminem</em></p>,\n",
       " <p class=\"title-artist\"><cite class=\"title\">Candy Shop (feat. Olivia)</cite><em class=\"artist\">50 Cent</em></p>,\n",
       " <p class=\"title-artist\"><cite class=\"title\">Boyfriend</cite><em class=\"artist\">Dove Cameron</em></p>,\n",
       " <p class=\"title-artist\"><cite class=\"title\">Woke up This Morning (The Sopranos Mix)</cite><em class=\"artist\">Alabama 3</em></p>,\n",
       " <p class=\"title-artist\"><cite class=\"title\">Fingers Crossed</cite><em class=\"artist\">Lauren Spencer-Smith</em></p>,\n",
       " <p class=\"title-artist\"><cite class=\"title\">23</cite><em class=\"artist\">Sam Hunt</em></p>,\n",
       " <p class=\"title-artist\"><cite class=\"title\">Bad Habits</cite><em class=\"artist\">Ed Sheeran</em></p>,\n",
       " <p class=\"title-artist\"><cite class=\"title\">God's Country</cite><em class=\"artist\">State of Mine &amp; Drew Jacobs</em></p>,\n",
       " <p class=\"title-artist\"><cite class=\"title\">I Ain't Mad At Cha (feat. Danny Boy)</cite><em class=\"artist\">2Pac</em></p>,\n",
       " <p class=\"title-artist\"><cite class=\"title\">California Love (feat. Dr. Dre &amp; Roger Troutman) [Remix]</cite><em class=\"artist\">2Pac</em></p>,\n",
       " <p class=\"title-artist\"><cite class=\"title\">HUMBLE.</cite><em class=\"artist\">Kendrick Lamar</em></p>,\n",
       " <p class=\"title-artist\"><cite class=\"title\">Do It To It (feat. Cherish)</cite><em class=\"artist\">Acraze</em></p>,\n",
       " <p class=\"title-artist\"><cite class=\"title\">Marry Me (Ballad)</cite><em class=\"artist\">Jennifer Lopez &amp; Maluma</em></p>,\n",
       " <p class=\"title-artist\"><cite class=\"title\">Perfect</cite><em class=\"artist\">Ed Sheeran</em></p>,\n",
       " <p class=\"title-artist\"><cite class=\"title\">To Be Loved By You</cite><em class=\"artist\">Parker McCollum</em></p>]"
      ]
     },
     "execution_count": 9,
     "metadata": {},
     "output_type": "execute_result"
    }
   ],
   "source": [
    "soup.select(\"p.title-artist\")"
   ]
  },
  {
   "cell_type": "code",
   "execution_count": 10,
   "id": "4cbc64ee",
   "metadata": {},
   "outputs": [
    {
     "data": {
      "text/plain": [
       "'The Next Episode (feat. Snoop Dogg)'"
      ]
     },
     "execution_count": 10,
     "metadata": {},
     "output_type": "execute_result"
    }
   ],
   "source": [
    "soup.select(\"p.title-artist cite\")[0]\n",
    "soup.select(\"p.title-artist cite\")[0].get_text()"
   ]
  },
  {
   "cell_type": "code",
   "execution_count": 11,
   "id": "ef393389",
   "metadata": {},
   "outputs": [
    {
     "data": {
      "text/plain": [
       "'Dr. Dre'"
      ]
     },
     "execution_count": 11,
     "metadata": {},
     "output_type": "execute_result"
    }
   ],
   "source": [
    "soup.select(\"p.title-artist em\")[0]\n",
    "soup.select(\"p.title-artist em\")[0].get_text()"
   ]
  },
  {
   "cell_type": "code",
   "execution_count": 12,
   "id": "0a274086",
   "metadata": {},
   "outputs": [
    {
     "data": {
      "text/html": [
       "<div>\n",
       "<style scoped>\n",
       "    .dataframe tbody tr th:only-of-type {\n",
       "        vertical-align: middle;\n",
       "    }\n",
       "\n",
       "    .dataframe tbody tr th {\n",
       "        vertical-align: top;\n",
       "    }\n",
       "\n",
       "    .dataframe thead th {\n",
       "        text-align: right;\n",
       "    }\n",
       "</style>\n",
       "<table border=\"1\" class=\"dataframe\">\n",
       "  <thead>\n",
       "    <tr style=\"text-align: right;\">\n",
       "      <th></th>\n",
       "      <th>title</th>\n",
       "      <th>artist</th>\n",
       "    </tr>\n",
       "  </thead>\n",
       "  <tbody>\n",
       "    <tr>\n",
       "      <th>0</th>\n",
       "      <td>The Next Episode (feat. Snoop Dogg)</td>\n",
       "      <td>Dr. Dre</td>\n",
       "    </tr>\n",
       "    <tr>\n",
       "      <th>1</th>\n",
       "      <td>Stay Alive (Prod. by SUGA of BTS)</td>\n",
       "      <td>Jung Kook</td>\n",
       "    </tr>\n",
       "    <tr>\n",
       "      <th>2</th>\n",
       "      <td>Still D.R.E. (feat. Snoop Dogg)</td>\n",
       "      <td>Dr. Dre</td>\n",
       "    </tr>\n",
       "    <tr>\n",
       "      <th>3</th>\n",
       "      <td>Lose Yourself</td>\n",
       "      <td>Eminem</td>\n",
       "    </tr>\n",
       "    <tr>\n",
       "      <th>4</th>\n",
       "      <td>Family Affair</td>\n",
       "      <td>Mary J. Blige</td>\n",
       "    </tr>\n",
       "  </tbody>\n",
       "</table>\n",
       "</div>"
      ],
      "text/plain": [
       "                                 title         artist\n",
       "0  The Next Episode (feat. Snoop Dogg)        Dr. Dre\n",
       "1    Stay Alive (Prod. by SUGA of BTS)      Jung Kook\n",
       "2      Still D.R.E. (feat. Snoop Dogg)        Dr. Dre\n",
       "3                        Lose Yourself         Eminem\n",
       "4                        Family Affair  Mary J. Blige"
      ]
     },
     "metadata": {},
     "output_type": "display_data"
    },
    {
     "data": {
      "text/plain": [
       "100"
      ]
     },
     "execution_count": 12,
     "metadata": {},
     "output_type": "execute_result"
    }
   ],
   "source": [
    "title = []\n",
    "artist = []\n",
    "\n",
    "num_iter = len(soup.select(\"p.title-artist\"))\n",
    "\n",
    "for i in range(num_iter):\n",
    "    title.append(soup.select(\"p.title-artist cite\")[i].get_text())\n",
    "    artist.append(soup.select(\"p.title-artist em\")[i].get_text())\n",
    "\n",
    "chart = pd.DataFrame({\"title\":title,\n",
    "                       \"artist\":artist\n",
    "                      })\n",
    "display(chart.head())\n",
    "len(chart)"
   ]
  },
  {
   "cell_type": "code",
   "execution_count": 13,
   "id": "f508504c",
   "metadata": {},
   "outputs": [],
   "source": [
    "#Optional, we can remove the (feat.) from the title to keep it cleaner - check if better with or without.  "
   ]
  },
  {
   "cell_type": "code",
   "execution_count": 14,
   "id": "e0d46ea2",
   "metadata": {},
   "outputs": [
    {
     "name": "stderr",
     "output_type": "stream",
     "text": [
      "/var/folders/4x/ppplmryx5_d7mfrd5d6968kr0000gn/T/ipykernel_37291/3595195223.py:1: FutureWarning: The default value of regex will change from True to False in a future version.\n",
      "  chart['title'] = chart['title'].str.replace(r\"\\(.*\\)\",\"\")\n"
     ]
    }
   ],
   "source": [
    "chart['title'] = chart['title'].str.replace(r\"\\(.*\\)\",\"\")"
   ]
  },
  {
   "cell_type": "code",
   "execution_count": 15,
   "id": "f25e27fb",
   "metadata": {
    "scrolled": false
   },
   "outputs": [
    {
     "data": {
      "text/html": [
       "<div>\n",
       "<style scoped>\n",
       "    .dataframe tbody tr th:only-of-type {\n",
       "        vertical-align: middle;\n",
       "    }\n",
       "\n",
       "    .dataframe tbody tr th {\n",
       "        vertical-align: top;\n",
       "    }\n",
       "\n",
       "    .dataframe thead th {\n",
       "        text-align: right;\n",
       "    }\n",
       "</style>\n",
       "<table border=\"1\" class=\"dataframe\">\n",
       "  <thead>\n",
       "    <tr style=\"text-align: right;\">\n",
       "      <th></th>\n",
       "      <th>title</th>\n",
       "      <th>artist</th>\n",
       "    </tr>\n",
       "  </thead>\n",
       "  <tbody>\n",
       "    <tr>\n",
       "      <th>0</th>\n",
       "      <td>The Next Episode</td>\n",
       "      <td>Dr. Dre</td>\n",
       "    </tr>\n",
       "    <tr>\n",
       "      <th>1</th>\n",
       "      <td>Stay Alive</td>\n",
       "      <td>Jung Kook</td>\n",
       "    </tr>\n",
       "    <tr>\n",
       "      <th>2</th>\n",
       "      <td>Still D.R.E.</td>\n",
       "      <td>Dr. Dre</td>\n",
       "    </tr>\n",
       "    <tr>\n",
       "      <th>3</th>\n",
       "      <td>Lose Yourself</td>\n",
       "      <td>Eminem</td>\n",
       "    </tr>\n",
       "    <tr>\n",
       "      <th>4</th>\n",
       "      <td>Family Affair</td>\n",
       "      <td>Mary J. Blige</td>\n",
       "    </tr>\n",
       "  </tbody>\n",
       "</table>\n",
       "</div>"
      ],
      "text/plain": [
       "               title         artist\n",
       "0  The Next Episode         Dr. Dre\n",
       "1        Stay Alive       Jung Kook\n",
       "2      Still D.R.E.         Dr. Dre\n",
       "3      Lose Yourself         Eminem\n",
       "4      Family Affair  Mary J. Blige"
      ]
     },
     "execution_count": 15,
     "metadata": {},
     "output_type": "execute_result"
    }
   ],
   "source": [
    "chart.head()"
   ]
  },
  {
   "cell_type": "code",
   "execution_count": 58,
   "id": "6fc72cb0",
   "metadata": {},
   "outputs": [],
   "source": [
    "chart.to_csv('top100songs.csv')"
   ]
  },
  {
   "cell_type": "markdown",
   "id": "137a5cf0",
   "metadata": {},
   "source": [
    "# Lab 6.02"
   ]
  },
  {
   "cell_type": "code",
   "execution_count": 16,
   "id": "932a98e3",
   "metadata": {},
   "outputs": [],
   "source": [
    "#gathering more data"
   ]
  },
  {
   "cell_type": "code",
   "execution_count": 17,
   "id": "3ab67480",
   "metadata": {},
   "outputs": [],
   "source": [
    "#First get list of URLs from https://playback.fm/charts/rock that direct to \"year-charts\""
   ]
  },
  {
   "cell_type": "code",
   "execution_count": 18,
   "id": "e6a6f80a",
   "metadata": {},
   "outputs": [],
   "source": [
    "url = \"https://playback.fm/charts/rock\""
   ]
  },
  {
   "cell_type": "code",
   "execution_count": 19,
   "id": "c29e7d39",
   "metadata": {},
   "outputs": [
    {
     "data": {
      "text/plain": [
       "200"
      ]
     },
     "execution_count": 19,
     "metadata": {},
     "output_type": "execute_result"
    }
   ],
   "source": [
    "response = requests.get(url)\n",
    "response.status_code"
   ]
  },
  {
   "cell_type": "code",
   "execution_count": 20,
   "id": "b3f97e25",
   "metadata": {},
   "outputs": [],
   "source": [
    "soup = BeautifulSoup(response.content, \"html.parser\")"
   ]
  },
  {
   "cell_type": "code",
   "execution_count": 21,
   "id": "55a277dc",
   "metadata": {},
   "outputs": [
    {
     "data": {
      "text/plain": [
       "[<a href=\"/charts/rock/1955\">\n",
       " 1955 <span> Rock &amp; Roll Chart</span>\n",
       " </a>]"
      ]
     },
     "execution_count": 21,
     "metadata": {},
     "output_type": "execute_result"
    }
   ],
   "source": [
    "soup.select(\"body > div.wrappercenter > div.wrapperbody.cf > div.playlist.chart > div > a:nth-child(1)\")"
   ]
  },
  {
   "cell_type": "code",
   "execution_count": 22,
   "id": "6a123e63",
   "metadata": {},
   "outputs": [
    {
     "data": {
      "text/plain": [
       "[<a href=\"/charts/rock/1955\">\n",
       " 1955 <span> Rock &amp; Roll Chart</span>\n",
       " </a>]"
      ]
     },
     "execution_count": 22,
     "metadata": {},
     "output_type": "execute_result"
    }
   ],
   "source": [
    "soup.select(\"div.playlist.chart > div > a:nth-child(1)\")"
   ]
  },
  {
   "cell_type": "code",
   "execution_count": 23,
   "id": "86bd1cfa",
   "metadata": {
    "scrolled": false
   },
   "outputs": [],
   "source": [
    "# iterations = range(1955, 2022, 1)\n",
    "\n",
    "# for i in iterations:\n",
    "#     start_at= str(i)\n",
    "#     url = \"https://playback.fm/charts/rock/\" + start_at\n",
    "#     print(url)"
   ]
  },
  {
   "cell_type": "code",
   "execution_count": 24,
   "id": "0386701f",
   "metadata": {},
   "outputs": [],
   "source": [
    "from time import sleep\n",
    "from random import randint"
   ]
  },
  {
   "cell_type": "code",
   "execution_count": 25,
   "id": "1b36129e",
   "metadata": {},
   "outputs": [
    {
     "name": "stdout",
     "output_type": "stream",
     "text": [
      "Status code: 200\n",
      "I will sleep for 2 second/s.\n",
      "Status code: 200\n",
      "I will sleep for 1 second/s.\n",
      "Status code: 200\n",
      "I will sleep for 2 second/s.\n",
      "Status code: 200\n",
      "I will sleep for 4 second/s.\n",
      "Status code: 200\n",
      "I will sleep for 1 second/s.\n",
      "Status code: 200\n",
      "I will sleep for 2 second/s.\n",
      "Status code: 200\n",
      "I will sleep for 3 second/s.\n",
      "Status code: 200\n",
      "I will sleep for 4 second/s.\n",
      "Status code: 200\n",
      "I will sleep for 3 second/s.\n",
      "Status code: 200\n",
      "I will sleep for 3 second/s.\n",
      "Status code: 200\n",
      "I will sleep for 4 second/s.\n",
      "Status code: 200\n",
      "I will sleep for 1 second/s.\n",
      "Status code: 200\n",
      "I will sleep for 1 second/s.\n",
      "Status code: 200\n",
      "I will sleep for 2 second/s.\n",
      "Status code: 200\n",
      "I will sleep for 4 second/s.\n",
      "Status code: 200\n",
      "I will sleep for 4 second/s.\n",
      "Status code: 200\n",
      "I will sleep for 1 second/s.\n",
      "Status code: 200\n",
      "I will sleep for 4 second/s.\n",
      "Status code: 200\n",
      "I will sleep for 1 second/s.\n",
      "Status code: 200\n",
      "I will sleep for 2 second/s.\n",
      "Status code: 200\n",
      "I will sleep for 3 second/s.\n",
      "Status code: 200\n",
      "I will sleep for 1 second/s.\n",
      "Status code: 200\n",
      "I will sleep for 3 second/s.\n",
      "Status code: 200\n",
      "I will sleep for 3 second/s.\n",
      "Status code: 200\n",
      "I will sleep for 1 second/s.\n",
      "Status code: 200\n",
      "I will sleep for 4 second/s.\n",
      "Status code: 200\n",
      "I will sleep for 1 second/s.\n",
      "Status code: 200\n",
      "I will sleep for 3 second/s.\n",
      "Status code: 200\n",
      "I will sleep for 1 second/s.\n",
      "Status code: 200\n",
      "I will sleep for 2 second/s.\n",
      "Status code: 200\n",
      "I will sleep for 2 second/s.\n",
      "Status code: 200\n",
      "I will sleep for 4 second/s.\n",
      "Status code: 200\n",
      "I will sleep for 2 second/s.\n",
      "Status code: 200\n",
      "I will sleep for 4 second/s.\n",
      "Status code: 200\n",
      "I will sleep for 3 second/s.\n",
      "Status code: 200\n",
      "I will sleep for 2 second/s.\n",
      "Status code: 200\n",
      "I will sleep for 1 second/s.\n",
      "Status code: 200\n",
      "I will sleep for 2 second/s.\n",
      "Status code: 200\n",
      "I will sleep for 4 second/s.\n",
      "Status code: 200\n",
      "I will sleep for 3 second/s.\n",
      "Status code: 200\n",
      "I will sleep for 2 second/s.\n",
      "Status code: 200\n",
      "I will sleep for 4 second/s.\n",
      "Status code: 200\n",
      "I will sleep for 1 second/s.\n",
      "Status code: 200\n",
      "I will sleep for 3 second/s.\n",
      "Status code: 200\n",
      "I will sleep for 3 second/s.\n",
      "Status code: 200\n",
      "I will sleep for 2 second/s.\n",
      "Status code: 200\n",
      "I will sleep for 4 second/s.\n",
      "Status code: 200\n",
      "I will sleep for 3 second/s.\n",
      "Status code: 200\n",
      "I will sleep for 3 second/s.\n",
      "Status code: 200\n",
      "I will sleep for 3 second/s.\n",
      "Status code: 200\n",
      "I will sleep for 4 second/s.\n",
      "Status code: 200\n",
      "I will sleep for 2 second/s.\n",
      "Status code: 200\n",
      "I will sleep for 3 second/s.\n",
      "Status code: 200\n",
      "I will sleep for 4 second/s.\n",
      "Status code: 200\n",
      "I will sleep for 2 second/s.\n",
      "Status code: 200\n",
      "I will sleep for 2 second/s.\n",
      "Status code: 200\n",
      "I will sleep for 4 second/s.\n",
      "Status code: 200\n",
      "I will sleep for 2 second/s.\n",
      "Status code: 200\n",
      "I will sleep for 2 second/s.\n",
      "Status code: 200\n",
      "I will sleep for 4 second/s.\n",
      "Status code: 200\n",
      "I will sleep for 1 second/s.\n",
      "Status code: 200\n",
      "I will sleep for 2 second/s.\n",
      "Status code: 200\n",
      "I will sleep for 1 second/s.\n",
      "Status code: 200\n",
      "I will sleep for 1 second/s.\n",
      "Status code: 200\n",
      "I will sleep for 3 second/s.\n",
      "Status code: 200\n",
      "I will sleep for 1 second/s.\n",
      "Status code: 200\n",
      "I will sleep for 4 second/s.\n"
     ]
    }
   ],
   "source": [
    "pages = []\n",
    "\n",
    "iterations = range(1955, 2022, 1)\n",
    "for i in iterations:\n",
    "    start_at= str(i)\n",
    "    url = \"https://playback.fm/charts/rock/\" + start_at\n",
    "\n",
    "    # download html with a get request:\n",
    "    response = requests.get(url)\n",
    "    #response = requests.get(url, headers = {\"Accept-Language\": \"en-US\"})\n",
    "\n",
    "    # monitor the process by printing the status code\n",
    "    print(\"Status code: \" + str(response.status_code))\n",
    "\n",
    "    # store response into \"pages\" list\n",
    "    pages.append(response)\n",
    "\n",
    "    # respectful nap:\n",
    "    wait_time = randint(1,4)\n",
    "    print(\"I will sleep for \" + str(wait_time) + \" second/s.\")\n",
    "    sleep(wait_time)"
   ]
  },
  {
   "cell_type": "code",
   "execution_count": 60,
   "id": "889a5ab4",
   "metadata": {},
   "outputs": [],
   "source": [
    "#print(BeautifulSoup(pages[0].content, \"html.parser\").prettify())"
   ]
  },
  {
   "cell_type": "code",
   "execution_count": 46,
   "id": "733a1e3d",
   "metadata": {},
   "outputs": [],
   "source": [
    "soup2 = BeautifulSoup(pages[0].content, \"html.parser\")"
   ]
  },
  {
   "cell_type": "code",
   "execution_count": 47,
   "id": "5a9c42d0",
   "metadata": {},
   "outputs": [],
   "source": [
    "artist = soup2.select(\".artist\")"
   ]
  },
  {
   "cell_type": "code",
   "execution_count": 56,
   "id": "f07ea17c",
   "metadata": {},
   "outputs": [],
   "source": [
    "song = soup2.select (\".song>a\")"
   ]
  },
  {
   "cell_type": "code",
   "execution_count": 61,
   "id": "a9f59597",
   "metadata": {
    "scrolled": false
   },
   "outputs": [
    {
     "data": {
      "text/html": [
       "<div>\n",
       "<style scoped>\n",
       "    .dataframe tbody tr th:only-of-type {\n",
       "        vertical-align: middle;\n",
       "    }\n",
       "\n",
       "    .dataframe tbody tr th {\n",
       "        vertical-align: top;\n",
       "    }\n",
       "\n",
       "    .dataframe thead th {\n",
       "        text-align: right;\n",
       "    }\n",
       "</style>\n",
       "<table border=\"1\" class=\"dataframe\">\n",
       "  <thead>\n",
       "    <tr style=\"text-align: right;\">\n",
       "      <th></th>\n",
       "      <th>title</th>\n",
       "      <th>artist</th>\n",
       "    </tr>\n",
       "  </thead>\n",
       "  <tbody>\n",
       "    <tr>\n",
       "      <th>0</th>\n",
       "      <td>\\nTutti-Frutti\\n</td>\n",
       "      <td>Little Richard</td>\n",
       "    </tr>\n",
       "    <tr>\n",
       "      <th>1</th>\n",
       "      <td>\\nMaybellene\\n</td>\n",
       "      <td>Chuck Berry</td>\n",
       "    </tr>\n",
       "    <tr>\n",
       "      <th>2</th>\n",
       "      <td>\\nSpeedo\\n</td>\n",
       "      <td>The Cadillacs</td>\n",
       "    </tr>\n",
       "    <tr>\n",
       "      <th>3</th>\n",
       "      <td>\\nHeartbreak Hotel\\n</td>\n",
       "      <td>Elvis Presley</td>\n",
       "    </tr>\n",
       "    <tr>\n",
       "      <th>4</th>\n",
       "      <td>\\nRoll over Beethoven\\n</td>\n",
       "      <td>Chuck Berry</td>\n",
       "    </tr>\n",
       "  </tbody>\n",
       "</table>\n",
       "</div>"
      ],
      "text/plain": [
       "                     title          artist\n",
       "0         \\nTutti-Frutti\\n  Little Richard\n",
       "1           \\nMaybellene\\n     Chuck Berry\n",
       "2               \\nSpeedo\\n   The Cadillacs\n",
       "3     \\nHeartbreak Hotel\\n   Elvis Presley\n",
       "4  \\nRoll over Beethoven\\n     Chuck Berry"
      ]
     },
     "execution_count": 61,
     "metadata": {},
     "output_type": "execute_result"
    }
   ],
   "source": [
    "pages_parsed2 = []\n",
    "titles2 = []\n",
    "artists2 = []\n",
    "\n",
    "for i in range(len(pages)):\n",
    "    # parse all pages\n",
    "    pages_parsed2.append(BeautifulSoup(pages[i].content, \"html.parser\"))\n",
    "    songs_html2 = pages_parsed2[i]\n",
    "    for j in range(len(songs_html2)):\n",
    "            titles2.append(songs_html2.select(\".song>a\")[j].get_text())\n",
    "            artists2.append(songs_html2.select(\".artist\")[j].get_text().strip())\n",
    "\n",
    "total_parsed = pd.DataFrame({\"title\":titles2,\n",
    "                       \"artist\":artists2,\n",
    "                      })\n",
    "total_parsed.head()"
   ]
  },
  {
   "cell_type": "code",
   "execution_count": 54,
   "id": "e86d1758",
   "metadata": {},
   "outputs": [
    {
     "data": {
      "text/html": [
       "<div>\n",
       "<style scoped>\n",
       "    .dataframe tbody tr th:only-of-type {\n",
       "        vertical-align: middle;\n",
       "    }\n",
       "\n",
       "    .dataframe tbody tr th {\n",
       "        vertical-align: top;\n",
       "    }\n",
       "\n",
       "    .dataframe thead th {\n",
       "        text-align: right;\n",
       "    }\n",
       "</style>\n",
       "<table border=\"1\" class=\"dataframe\">\n",
       "  <thead>\n",
       "    <tr style=\"text-align: right;\">\n",
       "      <th></th>\n",
       "      <th>title</th>\n",
       "      <th>artist</th>\n",
       "    </tr>\n",
       "  </thead>\n",
       "  <tbody>\n",
       "    <tr>\n",
       "      <th>0</th>\n",
       "      <td>Tutti-Frutti</td>\n",
       "      <td>Little Richard</td>\n",
       "    </tr>\n",
       "    <tr>\n",
       "      <th>1</th>\n",
       "      <td>Maybellene</td>\n",
       "      <td>Chuck Berry</td>\n",
       "    </tr>\n",
       "    <tr>\n",
       "      <th>2</th>\n",
       "      <td>Speedo</td>\n",
       "      <td>The Cadillacs</td>\n",
       "    </tr>\n",
       "    <tr>\n",
       "      <th>3</th>\n",
       "      <td>Heartbreak Hotel</td>\n",
       "      <td>Elvis Presley</td>\n",
       "    </tr>\n",
       "    <tr>\n",
       "      <th>4</th>\n",
       "      <td>Roll over Beethoven</td>\n",
       "      <td>Chuck Berry</td>\n",
       "    </tr>\n",
       "  </tbody>\n",
       "</table>\n",
       "</div>"
      ],
      "text/plain": [
       "                 title          artist\n",
       "0         Tutti-Frutti  Little Richard\n",
       "1           Maybellene     Chuck Berry\n",
       "2               Speedo   The Cadillacs\n",
       "3     Heartbreak Hotel   Elvis Presley\n",
       "4  Roll over Beethoven     Chuck Berry"
      ]
     },
     "execution_count": 54,
     "metadata": {},
     "output_type": "execute_result"
    }
   ],
   "source": [
    "total_parsed['title'] = total_parsed['title'].str.replace('\\n', '')\n",
    "total_parsed['artist'] = total_parsed['artist'].str.replace('\\n','')\n",
    "total_parsed.head()"
   ]
  },
  {
   "cell_type": "code",
   "execution_count": 59,
   "id": "18dedcd3",
   "metadata": {},
   "outputs": [],
   "source": [
    "total_parsed.to_csv('top_multiyears.csv')"
   ]
  }
 ],
 "metadata": {
  "kernelspec": {
   "display_name": "Python 3 (ipykernel)",
   "language": "python",
   "name": "python3"
  },
  "language_info": {
   "codemirror_mode": {
    "name": "ipython",
    "version": 3
   },
   "file_extension": ".py",
   "mimetype": "text/x-python",
   "name": "python",
   "nbconvert_exporter": "python",
   "pygments_lexer": "ipython3",
   "version": "3.9.7"
  }
 },
 "nbformat": 4,
 "nbformat_minor": 5
}
